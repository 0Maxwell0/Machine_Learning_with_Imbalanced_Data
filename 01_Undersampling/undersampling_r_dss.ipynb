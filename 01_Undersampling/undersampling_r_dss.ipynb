{
 "cells": [
  {
   "cell_type": "markdown",
   "metadata": {},
   "source": [
    "## 1. First Steps\n",
    "\n",
    "### 0.1. Impotring libraries"
   ]
  },
  {
   "cell_type": "code",
   "execution_count": 1,
   "metadata": {},
   "outputs": [],
   "source": [
    "from collections import Counter\n",
    "\n",
    "import pandas as pd\n",
    "import matplotlib.pyplot as plt\n",
    "import seaborn as sns\n",
    "\n",
    "from sklearn.ensemble import RandomForestClassifier\n",
    "from sklearn.linear_model import LogisticRegression\n",
    "from sklearn.neighbors import KNeighborsClassifier\n",
    "from sklearn.metrics import roc_auc_score\n",
    "from sklearn.model_selection import train_test_split\n",
    "from sklearn.preprocessing import MinMaxScaler\n",
    "\n",
    "from imblearn.datasets import fetch_datasets\n",
    "\n",
    "from sklearn.preprocessing import StandardScaler\n",
    "\n",
    "from imblearn.under_sampling import (\n",
    "    RandomUnderSampler,\n",
    "    CondensedNearestNeighbour,\n",
    "    TomekLinks,\n",
    "    OneSidedSelection,\n",
    "    EditedNearestNeighbours,\n",
    "    RepeatedEditedNearestNeighbours,\n",
    "    AllKNN,\n",
    "    NeighbourhoodCleaningRule,\n",
    "    NearMiss,\n",
    "    InstanceHardnessThreshold\n",
    ")"
   ]
  },
  {
   "cell_type": "markdown",
   "metadata": {},
   "source": [
    "### 0.2. Load data"
   ]
  },
  {
   "cell_type": "code",
   "execution_count": 2,
   "metadata": {},
   "outputs": [
    {
     "data": {
      "text/html": [
       "<div>\n",
       "<style scoped>\n",
       "    .dataframe tbody tr th:only-of-type {\n",
       "        vertical-align: middle;\n",
       "    }\n",
       "\n",
       "    .dataframe tbody tr th {\n",
       "        vertical-align: top;\n",
       "    }\n",
       "\n",
       "    .dataframe thead th {\n",
       "        text-align: right;\n",
       "    }\n",
       "</style>\n",
       "<table border=\"1\" class=\"dataframe\">\n",
       "  <thead>\n",
       "    <tr style=\"text-align: right;\">\n",
       "      <th></th>\n",
       "      <th>0</th>\n",
       "      <th>1</th>\n",
       "      <th>2</th>\n",
       "      <th>3</th>\n",
       "      <th>4</th>\n",
       "      <th>5</th>\n",
       "      <th>6</th>\n",
       "      <th>7</th>\n",
       "      <th>8</th>\n",
       "      <th>9</th>\n",
       "      <th>...</th>\n",
       "      <th>65</th>\n",
       "      <th>66</th>\n",
       "      <th>67</th>\n",
       "      <th>68</th>\n",
       "      <th>69</th>\n",
       "      <th>70</th>\n",
       "      <th>71</th>\n",
       "      <th>72</th>\n",
       "      <th>73</th>\n",
       "      <th>target</th>\n",
       "    </tr>\n",
       "  </thead>\n",
       "  <tbody>\n",
       "    <tr>\n",
       "      <th>0</th>\n",
       "      <td>52.0</td>\n",
       "      <td>32.69</td>\n",
       "      <td>0.30</td>\n",
       "      <td>2.5</td>\n",
       "      <td>20.0</td>\n",
       "      <td>1256.8</td>\n",
       "      <td>-0.89</td>\n",
       "      <td>0.33</td>\n",
       "      <td>11.0</td>\n",
       "      <td>-55.0</td>\n",
       "      <td>...</td>\n",
       "      <td>1595.1</td>\n",
       "      <td>-1.64</td>\n",
       "      <td>2.83</td>\n",
       "      <td>-2.0</td>\n",
       "      <td>-50.0</td>\n",
       "      <td>445.2</td>\n",
       "      <td>-0.35</td>\n",
       "      <td>0.26</td>\n",
       "      <td>0.76</td>\n",
       "      <td>-1</td>\n",
       "    </tr>\n",
       "    <tr>\n",
       "      <th>1</th>\n",
       "      <td>58.0</td>\n",
       "      <td>33.33</td>\n",
       "      <td>0.00</td>\n",
       "      <td>16.5</td>\n",
       "      <td>9.5</td>\n",
       "      <td>608.1</td>\n",
       "      <td>0.50</td>\n",
       "      <td>0.07</td>\n",
       "      <td>20.5</td>\n",
       "      <td>-52.5</td>\n",
       "      <td>...</td>\n",
       "      <td>762.9</td>\n",
       "      <td>0.29</td>\n",
       "      <td>0.82</td>\n",
       "      <td>-3.0</td>\n",
       "      <td>-35.0</td>\n",
       "      <td>140.3</td>\n",
       "      <td>1.16</td>\n",
       "      <td>0.39</td>\n",
       "      <td>0.73</td>\n",
       "      <td>-1</td>\n",
       "    </tr>\n",
       "    <tr>\n",
       "      <th>2</th>\n",
       "      <td>77.0</td>\n",
       "      <td>27.27</td>\n",
       "      <td>-0.91</td>\n",
       "      <td>6.0</td>\n",
       "      <td>58.5</td>\n",
       "      <td>1623.6</td>\n",
       "      <td>-1.40</td>\n",
       "      <td>0.02</td>\n",
       "      <td>-6.5</td>\n",
       "      <td>-48.0</td>\n",
       "      <td>...</td>\n",
       "      <td>1491.8</td>\n",
       "      <td>0.32</td>\n",
       "      <td>-1.29</td>\n",
       "      <td>0.0</td>\n",
       "      <td>-34.0</td>\n",
       "      <td>658.2</td>\n",
       "      <td>-0.76</td>\n",
       "      <td>0.26</td>\n",
       "      <td>0.24</td>\n",
       "      <td>-1</td>\n",
       "    </tr>\n",
       "    <tr>\n",
       "      <th>3</th>\n",
       "      <td>41.0</td>\n",
       "      <td>27.91</td>\n",
       "      <td>-0.35</td>\n",
       "      <td>3.0</td>\n",
       "      <td>46.0</td>\n",
       "      <td>1921.6</td>\n",
       "      <td>-1.36</td>\n",
       "      <td>-0.47</td>\n",
       "      <td>-32.0</td>\n",
       "      <td>-51.5</td>\n",
       "      <td>...</td>\n",
       "      <td>2047.7</td>\n",
       "      <td>-0.98</td>\n",
       "      <td>1.53</td>\n",
       "      <td>0.0</td>\n",
       "      <td>-49.0</td>\n",
       "      <td>554.2</td>\n",
       "      <td>-0.83</td>\n",
       "      <td>0.39</td>\n",
       "      <td>0.73</td>\n",
       "      <td>-1</td>\n",
       "    </tr>\n",
       "    <tr>\n",
       "      <th>4</th>\n",
       "      <td>50.0</td>\n",
       "      <td>28.00</td>\n",
       "      <td>-1.32</td>\n",
       "      <td>-9.0</td>\n",
       "      <td>12.0</td>\n",
       "      <td>464.8</td>\n",
       "      <td>0.88</td>\n",
       "      <td>0.19</td>\n",
       "      <td>8.0</td>\n",
       "      <td>-51.5</td>\n",
       "      <td>...</td>\n",
       "      <td>479.5</td>\n",
       "      <td>0.68</td>\n",
       "      <td>-0.59</td>\n",
       "      <td>2.0</td>\n",
       "      <td>-36.0</td>\n",
       "      <td>-6.9</td>\n",
       "      <td>2.02</td>\n",
       "      <td>0.14</td>\n",
       "      <td>-0.23</td>\n",
       "      <td>-1</td>\n",
       "    </tr>\n",
       "  </tbody>\n",
       "</table>\n",
       "<p>5 rows × 75 columns</p>\n",
       "</div>"
      ],
      "text/plain": [
       "      0      1     2     3     4       5     6     7     8     9  ...      65  \\\n",
       "0  52.0  32.69  0.30   2.5  20.0  1256.8 -0.89  0.33  11.0 -55.0  ...  1595.1   \n",
       "1  58.0  33.33  0.00  16.5   9.5   608.1  0.50  0.07  20.5 -52.5  ...   762.9   \n",
       "2  77.0  27.27 -0.91   6.0  58.5  1623.6 -1.40  0.02  -6.5 -48.0  ...  1491.8   \n",
       "3  41.0  27.91 -0.35   3.0  46.0  1921.6 -1.36 -0.47 -32.0 -51.5  ...  2047.7   \n",
       "4  50.0  28.00 -1.32  -9.0  12.0   464.8  0.88  0.19   8.0 -51.5  ...   479.5   \n",
       "\n",
       "     66    67   68    69     70    71    72    73  target  \n",
       "0 -1.64  2.83 -2.0 -50.0  445.2 -0.35  0.26  0.76      -1  \n",
       "1  0.29  0.82 -3.0 -35.0  140.3  1.16  0.39  0.73      -1  \n",
       "2  0.32 -1.29  0.0 -34.0  658.2 -0.76  0.26  0.24      -1  \n",
       "3 -0.98  1.53  0.0 -49.0  554.2 -0.83  0.39  0.73      -1  \n",
       "4  0.68 -0.59  2.0 -36.0   -6.9  2.02  0.14 -0.23      -1  \n",
       "\n",
       "[5 rows x 75 columns]"
      ]
     },
     "execution_count": 2,
     "metadata": {},
     "output_type": "execute_result"
    }
   ],
   "source": [
    "# load data\n",
    "data = pd.read_csv('../kdd2004.csv')\n",
    "\n",
    "data.head()"
   ]
  },
  {
   "cell_type": "code",
   "execution_count": 3,
   "metadata": {},
   "outputs": [
    {
     "data": {
      "text/plain": [
       "(145751, 75)"
      ]
     },
     "execution_count": 3,
     "metadata": {},
     "output_type": "execute_result"
    }
   ],
   "source": [
    "# size of data\n",
    "data.shape"
   ]
  },
  {
   "cell_type": "markdown",
   "metadata": {},
   "source": [
    "### 0.3. Imbalanced target"
   ]
  },
  {
   "cell_type": "code",
   "execution_count": 4,
   "metadata": {},
   "outputs": [
    {
     "data": {
      "text/plain": [
       "-1    0.991108\n",
       " 1    0.008892\n",
       "Name: target, dtype: float64"
      ]
     },
     "execution_count": 4,
     "metadata": {},
     "output_type": "execute_result"
    }
   ],
   "source": [
    "# imbalanced target\n",
    "data.target.value_counts() / len(data)"
   ]
  },
  {
   "cell_type": "markdown",
   "metadata": {},
   "source": [
    "### 0.4. Separate train and test"
   ]
  },
  {
   "cell_type": "code",
   "execution_count": 5,
   "metadata": {},
   "outputs": [
    {
     "data": {
      "text/plain": [
       "((102025, 74), (43726, 74))"
      ]
     },
     "execution_count": 5,
     "metadata": {},
     "output_type": "execute_result"
    }
   ],
   "source": [
    "# separate dataset into train and test\n",
    "\n",
    "X_train, X_test, y_train, y_test = train_test_split(\n",
    "    data.drop(labels=['target'], axis=1),  # drop the target\n",
    "    data['target'],  # just the target\n",
    "    test_size=0.3,\n",
    "    random_state=0)\n",
    "\n",
    "X_train.shape, X_test.shape"
   ]
  },
  {
   "cell_type": "markdown",
   "metadata": {},
   "source": [
    "## 1. Random Undersampling\n",
    "\n",
    "__Method of data Exclusion__: Random <br>\n",
    "__Final Dataset Size__: 2 x minority class <br>\n",
    "__Fixed vs Cleaning__: Fixed <br>\n",
    "__Under-sampling criteria__: Random <br>"
   ]
  },
  {
   "cell_type": "code",
   "execution_count": 6,
   "metadata": {},
   "outputs": [],
   "source": [
    "rus = RandomUnderSampler(\n",
    "    sampling_strategy='auto',  # samples only from majority class\n",
    "    random_state=0, \n",
    "    replacement=True\n",
    ")  \n",
    "\n",
    "X_rus, y_rus = rus.fit_resample(X_train, y_train)"
   ]
  },
  {
   "cell_type": "code",
   "execution_count": 7,
   "metadata": {},
   "outputs": [
    {
     "data": {
      "text/plain": [
       "((1782, 74), (1782,))"
      ]
     },
     "execution_count": 7,
     "metadata": {},
     "output_type": "execute_result"
    }
   ],
   "source": [
    "# size of undersampled data\n",
    "\n",
    "X_rus.shape, y_rus.shape"
   ]
  },
  {
   "cell_type": "code",
   "execution_count": 8,
   "metadata": {},
   "outputs": [
    {
     "data": {
      "text/plain": [
       "-1    101134\n",
       " 1       891\n",
       "Name: target, dtype: int64"
      ]
     },
     "execution_count": 8,
     "metadata": {},
     "output_type": "execute_result"
    }
   ],
   "source": [
    "# number of positive class in original dataset\n",
    "y_train.value_counts()"
   ]
  },
  {
   "cell_type": "markdown",
   "metadata": {},
   "source": [
    "#### Plot data"
   ]
  },
  {
   "cell_type": "code",
   "execution_count": 9,
   "metadata": {},
   "outputs": [
    {
     "data": {
      "text/plain": [
       "<AxesSubplot:xlabel='0', ylabel='1'>"
      ]
     },
     "execution_count": 9,
     "metadata": {},
     "output_type": "execute_result"
    },
    {
     "data": {
      "image/png": "[encoded data removed]",
      "text/plain": [
       "<Figure size 432x288 with 1 Axes>"
      ]
     },
     "metadata": {
      "needs_background": "light"
     },
     "output_type": "display_data"
    }
   ],
   "source": [
    "#original ds\n",
    "\n",
    "sns.scatterplot(data=data.sample(1784, random_state=0),\n",
    "                x=\"0\",\n",
    "                y=\"1\",\n",
    "                hue=\"target\")"
   ]
  },
  {
   "cell_type": "code",
   "execution_count": 10,
   "metadata": {
    "scrolled": true
   },
   "outputs": [
    {
     "data": {
      "text/plain": [
       "<AxesSubplot:xlabel='0', ylabel='1'>"
      ]
     },
     "execution_count": 10,
     "metadata": {},
     "output_type": "execute_result"
    },
    {
     "data": {
      "image/png": "[encoded data removed]",
      "text/plain": [
       "<Figure size 432x288 with 1 Axes>"
      ]
     },
     "metadata": {
      "needs_background": "light"
     },
     "output_type": "display_data"
    }
   ],
   "source": [
    "# for undersample ds\n",
    "\n",
    "col_names = [str(i) for i in range(74)] + ['target']\n",
    "\n",
    "data_resampled = pd.concat([X_rus, y_rus], axis=1)\n",
    "data_resampled.columns = col_names\n",
    "\n",
    "sns.scatterplot(data=data_resampled, x=\"0\", y=\"1\", hue=\"target\")"
   ]
  },
  {
   "cell_type": "markdown",
   "metadata": {},
   "source": [
    "The distributions are similar to that of the original data. The reason more purple dots are seen, is because now they are not covered by the pink ones."
   ]
  },
  {
   "cell_type": "markdown",
   "metadata": {},
   "source": [
    "## 2. Condensed Nearest Neighbours\n",
    "\n",
    "__Method of data Exclusion__: Samples outside the boundary between the classes <br>\n",
    "__Final Dataset Size__: Varies <br>\n",
    "__Fixed vs Cleaning__: Cleaning <br>\n",
    "__Under-sampling criteria__: Keep boundary observations <br>\n",
    "\n",
    "#### Resempling"
   ]
  },
  {
   "cell_type": "code",
   "execution_count": null,
   "metadata": {},
   "outputs": [],
   "source": [
    "# this might take a while\n",
    "\n",
    "cnn = CondensedNearestNeighbour(\n",
    "    sampling_strategy='auto', \n",
    "    random_state=0,\n",
    "    n_neighbors=1,\n",
    "    n_jobs=4) \n",
    "\n",
    "X_cnn, y_cnn = cnn.fit_resample(X_train, y_train)"
   ]
  },
  {
   "cell_type": "code",
   "execution_count": null,
   "metadata": {},
   "outputs": [],
   "source": [
    "# size of undersampled data\n",
    "\n",
    "X_cnn.shape, y_cnn.shape"
   ]
  },
  {
   "cell_type": "code",
   "execution_count": null,
   "metadata": {},
   "outputs": [],
   "source": [
    "# number of positive class in original dataset\n",
    "y_train.value_counts()"
   ]
  },
  {
   "cell_type": "markdown",
   "metadata": {},
   "source": [
    "#### Plot data"
   ]
  },
  {
   "cell_type": "code",
   "execution_count": null,
   "metadata": {},
   "outputs": [],
   "source": [
    "# original data\n",
    "\n",
    "sns.scatterplot(data=X_train,\n",
    "                x=\"0\",\n",
    "                y=\"1\",\n",
    "                hue=y_train)\n",
    "\n",
    "plt.title('Original data')"
   ]
  },
  {
   "cell_type": "code",
   "execution_count": null,
   "metadata": {
    "scrolled": true
   },
   "outputs": [],
   "source": [
    "# undersampled data\n",
    "\n",
    "sns.scatterplot(data=X_cnn,\n",
    "                x=\"0\",\n",
    "                y=\"1\",\n",
    "                hue=y_resampled)\n",
    "\n",
    "plt.title('Undersampled data')"
   ]
  },
  {
   "cell_type": "code",
   "execution_count": null,
   "metadata": {},
   "outputs": [],
   "source": [
    "# original data\n",
    "\n",
    "sns.scatterplot(data=X_train,\n",
    "                x=\"4\",\n",
    "                y=\"5\",\n",
    "                hue=y_train)\n",
    "\n",
    "plt.title('Original data')"
   ]
  },
  {
   "cell_type": "code",
   "execution_count": null,
   "metadata": {
    "scrolled": true
   },
   "outputs": [],
   "source": [
    "sns.scatterplot(data=X_cnn,\n",
    "                x=\"4\",\n",
    "                y=\"5\",\n",
    "                hue=y_cnn)\n",
    "\n",
    "plt.title('Undersampled data')"
   ]
  },
  {
   "cell_type": "code",
   "execution_count": null,
   "metadata": {},
   "outputs": [],
   "source": []
  },
  {
   "cell_type": "markdown",
   "metadata": {},
   "source": [
    "## 3. Tomek Links\n",
    "\n",
    "__Method of data Exclusion__: removes samples which are Tomek Links <br>\n",
    "__Final Dataset Size__: Varies <br>\n",
    "__Fixed vs Cleaning__: Cleaning <br>\n",
    "__Under-sampling criteria__: Remove noisy observations <br>\n",
    "\n",
    "#### Resampling"
   ]
  },
  {
   "cell_type": "code",
   "execution_count": null,
   "metadata": {},
   "outputs": [],
   "source": [
    "# set up Tomek Links\n",
    "\n",
    "tl = TomekLinks(\n",
    "    sampling_strategy='auto',  # undersamples only the majority class\n",
    "    n_jobs=4)\n",
    "\n",
    "X_tl, y_tl = tl.fit_resample(X_train, y_train)"
   ]
  },
  {
   "cell_type": "code",
   "execution_count": null,
   "metadata": {},
   "outputs": [],
   "source": [
    "# size of undersampled data\n",
    "\n",
    "X_tl.shape, y_tl.shape"
   ]
  },
  {
   "cell_type": "markdown",
   "metadata": {},
   "source": [
    "The under-sampled data set is very similar to the original dataset, only 5 observations were removed. So there is no real point in testing the performance. The difference in performance will most likely be driven by the randomness of Random Forests than by the difference in the datasets."
   ]
  },
  {
   "cell_type": "code",
   "execution_count": null,
   "metadata": {},
   "outputs": [],
   "source": [
    "# number of positive class in original dataset\n",
    "y_train.value_counts()"
   ]
  },
  {
   "cell_type": "markdown",
   "metadata": {},
   "source": [
    "#### Plot data"
   ]
  },
  {
   "cell_type": "code",
   "execution_count": null,
   "metadata": {},
   "outputs": [],
   "source": [
    "# original data\n",
    "\n",
    "sns.scatterplot(data=X_train,\n",
    "                x=\"0\",\n",
    "                y=\"1\",\n",
    "                hue=y_train)\n",
    "\n",
    "plt.title('Original data')"
   ]
  },
  {
   "cell_type": "code",
   "execution_count": null,
   "metadata": {},
   "outputs": [],
   "source": [
    "# undersampled data\n",
    "\n",
    "sns.scatterplot(data=X_tl,\n",
    "                x=\"0\",\n",
    "                y=\"1\",\n",
    "                hue=y_tl)\n",
    "\n",
    "plt.title('Undersampled data')"
   ]
  },
  {
   "cell_type": "code",
   "execution_count": null,
   "metadata": {},
   "outputs": [],
   "source": [
    "# original data\n",
    "\n",
    "sns.scatterplot(data=X_train,\n",
    "                x=\"4\",\n",
    "                y=\"5\",\n",
    "                hue=y_train)\n",
    "\n",
    "plt.title('Original data')"
   ]
  },
  {
   "cell_type": "code",
   "execution_count": null,
   "metadata": {
    "scrolled": true
   },
   "outputs": [],
   "source": [
    "sns.scatterplot(data=X_tl,\n",
    "                x=\"4\",\n",
    "                y=\"5\",\n",
    "                hue=y_tl)\n",
    "\n",
    "plt.title('Undersampled data')"
   ]
  },
  {
   "cell_type": "markdown",
   "metadata": {},
   "source": [
    "## 4. One Sided Selection\n",
    "\n",
    "__Method of data Exclusion__: CNN + Tomek Links <br>\n",
    "__Final Dataset Size__: Varies <br>\n",
    "__Fixed vs Cleaning__: Cleaning <br>\n",
    "__Under-sampling criteria__: Both keep and remove boundary observations <br>\n",
    "\n",
    "#### Resempling"
   ]
  },
  {
   "cell_type": "code",
   "execution_count": null,
   "metadata": {},
   "outputs": [],
   "source": [
    "# this is going to take a while\n",
    "\n",
    "oss = OneSidedSelection(\n",
    "    sampling_strategy='auto',  # undersamples only the majority class\n",
    "    random_state=0,\n",
    "    n_neighbors=1,\n",
    "    n_jobs=4) \n",
    "\n",
    "X_oss, y_oss = oss.fit_resample(X_train, y_train)"
   ]
  },
  {
   "cell_type": "code",
   "execution_count": null,
   "metadata": {},
   "outputs": [],
   "source": [
    "# size of undersampled data\n",
    "X_oss.shape, y_oss.shape"
   ]
  },
  {
   "cell_type": "code",
   "execution_count": null,
   "metadata": {
    "scrolled": true
   },
   "outputs": [],
   "source": [
    "# number of positive class in original dataset\n",
    "y_train.value_counts()"
   ]
  },
  {
   "cell_type": "markdown",
   "metadata": {},
   "source": [
    "#### Plot data"
   ]
  },
  {
   "cell_type": "code",
   "execution_count": null,
   "metadata": {},
   "outputs": [],
   "source": [
    "# original data\n",
    "\n",
    "sns.scatterplot(data=X_train,\n",
    "                x=\"0\",\n",
    "                y=\"1\",\n",
    "                hue=y_train)\n",
    "\n",
    "plt.title('Original data')"
   ]
  },
  {
   "cell_type": "code",
   "execution_count": null,
   "metadata": {},
   "outputs": [],
   "source": [
    "# undersampled data\n",
    "\n",
    "sns.scatterplot(data=X_oss,\n",
    "                x=\"0\",\n",
    "                y=\"1\",\n",
    "                hue=y_oss)\n",
    "\n",
    "plt.title('Undersampled data')"
   ]
  },
  {
   "cell_type": "code",
   "execution_count": null,
   "metadata": {},
   "outputs": [],
   "source": [
    "# original data\n",
    "\n",
    "sns.scatterplot(data=X_train,\n",
    "                x=\"4\",\n",
    "                y=\"5\",\n",
    "                hue=y_train)\n",
    "\n",
    "plt.title('Original data')"
   ]
  },
  {
   "cell_type": "code",
   "execution_count": null,
   "metadata": {
    "scrolled": true
   },
   "outputs": [],
   "source": [
    "sns.scatterplot(data=X_oss,\n",
    "                x=\"4\",\n",
    "                y=\"5\",\n",
    "                hue=y_oss)\n",
    "\n",
    "plt.title('Undersampled data')"
   ]
  },
  {
   "cell_type": "markdown",
   "metadata": {},
   "source": [
    "## 5. Edited Nearest Neighbours\n",
    "\n",
    "__Method of data Exclusion__: Observation's class is different from that of its nearest neighbours <br>\n",
    "__Final Dataset Size__: Varies <br>\n",
    "__Fixed vs Cleaning__: Cleaning <br>\n",
    "__Under-sampling criteria__: Remove noisy observations <br>\n",
    "\n",
    "#### Resampling"
   ]
  },
  {
   "cell_type": "code",
   "execution_count": null,
   "metadata": {},
   "outputs": [],
   "source": [
    "# edited nearest neighbours\n",
    "\n",
    "enn = EditedNearestNeighbours(\n",
    "    sampling_strategy='auto',  # resamples the majority class\n",
    "    n_neighbors=3,\n",
    "    kind_sel='all', \n",
    "    n_jobs=4)\n",
    "\n",
    "X_enn, y_enn = enn.fit_resample(X_train, y_train)"
   ]
  },
  {
   "cell_type": "code",
   "execution_count": null,
   "metadata": {},
   "outputs": [],
   "source": [
    "# compare shapes\n",
    "\n",
    "X_train.shape, X_enn.shape"
   ]
  },
  {
   "cell_type": "markdown",
   "metadata": {},
   "source": [
    "#### Plot data"
   ]
  },
  {
   "cell_type": "code",
   "execution_count": null,
   "metadata": {},
   "outputs": [],
   "source": [
    "# original data\n",
    "\n",
    "sns.scatterplot(data=X_train,\n",
    "                x=\"0\",\n",
    "                y=\"1\",\n",
    "                hue=y_train)\n",
    "\n",
    "plt.title('Original data')"
   ]
  },
  {
   "cell_type": "code",
   "execution_count": null,
   "metadata": {},
   "outputs": [],
   "source": [
    "# enn undersampled data\n",
    "\n",
    "sns.scatterplot(data=X_enn,\n",
    "                x=\"0\",\n",
    "                y=\"1\",\n",
    "                hue=y_enn)\n",
    "\n",
    "plt.title('Edited NN data')"
   ]
  },
  {
   "cell_type": "code",
   "execution_count": null,
   "metadata": {},
   "outputs": [],
   "source": [
    "# original data, other set of variables\n",
    "\n",
    "sns.scatterplot(data=X_train,\n",
    "                x=\"4\",\n",
    "                y=\"5\",\n",
    "                hue=y_train)\n",
    "\n",
    "plt.title('Original data')"
   ]
  },
  {
   "cell_type": "code",
   "execution_count": null,
   "metadata": {
    "scrolled": true
   },
   "outputs": [],
   "source": [
    "# enn undersampled data\n",
    "\n",
    "sns.scatterplot(data=X_enn,\n",
    "                x=\"4\",\n",
    "                y=\"5\",\n",
    "                hue=y_enn)\n",
    "\n",
    "plt.title('Edited NN data')"
   ]
  },
  {
   "cell_type": "markdown",
   "metadata": {},
   "source": [
    "## 6. Repeated Edited Nearest Neighbours\n",
    "\n",
    "__Method of data Exclusion__: Repeats ENN multiple times <br>\n",
    "__Final Dataset Size__: Varies <br>\n",
    "__Fixed vs Cleaning__: Cleaning <br>\n",
    "__Under-sampling criteria__: Remove noisy observations <br>\n",
    "\n",
    "\n",
    "#### Resampling"
   ]
  },
  {
   "cell_type": "code",
   "execution_count": null,
   "metadata": {},
   "outputs": [],
   "source": [
    "# repeated NN\n",
    "\n",
    "renn = RepeatedEditedNearestNeighbours(\n",
    "    sampling_strategy='auto',\n",
    "    n_neighbors=3,\n",
    "    kind_sel='all',\n",
    "    n_jobs=4,\n",
    "    max_iter=100)\n",
    "\n",
    "X_renn, y_renn = renn.fit_resample(X_train, y_train)"
   ]
  },
  {
   "cell_type": "code",
   "execution_count": null,
   "metadata": {},
   "outputs": [],
   "source": [
    "# compare shapes\n",
    "\n",
    "X_train.shape, X_renn.shape"
   ]
  },
  {
   "cell_type": "markdown",
   "metadata": {},
   "source": [
    "#### Plot data\n"
   ]
  },
  {
   "cell_type": "code",
   "execution_count": null,
   "metadata": {},
   "outputs": [],
   "source": [
    "# original data\n",
    "\n",
    "sns.scatterplot(data=X_train,\n",
    "                x=\"0\",\n",
    "                y=\"1\",\n",
    "                hue=y_train)\n",
    "\n",
    "plt.title('Original data')"
   ]
  },
  {
   "cell_type": "code",
   "execution_count": null,
   "metadata": {},
   "outputs": [],
   "source": [
    "# renn undersampled data\n",
    "\n",
    "sns.scatterplot(data=X_renn,\n",
    "                x=\"0\",\n",
    "                y=\"1\",\n",
    "                hue=y_renn)\n",
    "\n",
    "plt.title('Repeated Edited NN data')"
   ]
  },
  {
   "cell_type": "code",
   "execution_count": null,
   "metadata": {},
   "outputs": [],
   "source": [
    "# original data, other set of variables\n",
    "\n",
    "sns.scatterplot(data=X_train,\n",
    "                x=\"4\",\n",
    "                y=\"5\",\n",
    "                hue=y_train)\n",
    "\n",
    "plt.title('Original data')"
   ]
  },
  {
   "cell_type": "code",
   "execution_count": null,
   "metadata": {
    "scrolled": true
   },
   "outputs": [],
   "source": [
    "# renn undersampled data\n",
    "\n",
    "sns.scatterplot(data=X_renn,\n",
    "                x=\"4\",\n",
    "                y=\"5\",\n",
    "                hue=y_renn)\n",
    "\n",
    "plt.title('Repeated Edited NN data')"
   ]
  },
  {
   "cell_type": "markdown",
   "metadata": {},
   "source": [
    "## 7. All KNN\n",
    "\n",
    "__Method of data Exclusion__: Repeats ENN, plus 1 neighbour in each KNN iteration <br>\n",
    "__Final Dataset Size__: Varies <br>\n",
    "__Fixed vs Cleaning__: Cleaning <br>\n",
    "__Under-sampling criteria__: Remove noisy observations <br>\n",
    "\n",
    "#### Resampling"
   ]
  },
  {
   "cell_type": "code",
   "execution_count": null,
   "metadata": {},
   "outputs": [],
   "source": [
    "# edited nearest neighbours\n",
    "\n",
    "allknn = AllKNN(\n",
    "    sampling_strategy='auto',\n",
    "    n_neighbors=3,\n",
    "    kind_sel='all',\n",
    "    n_jobs=4,\n",
    ")  # I hve 4 cores in my laptop\n",
    "\n",
    "X_allknn, y_allknn = allknn.fit_resample(X_train, y_train)"
   ]
  },
  {
   "cell_type": "code",
   "execution_count": null,
   "metadata": {},
   "outputs": [],
   "source": [
    "# compare shapes\n",
    "\n",
    "X_train.shape, X_enn.shape, X_renn.shape, X_allknn.shape"
   ]
  },
  {
   "cell_type": "markdown",
   "metadata": {},
   "source": [
    "## 8. Neighbourhood Cleaning Rule\n",
    "\n",
    "__Method of data Exclusion__: Combines ENN with a 1 KNN data exclusion criteria <br>\n",
    "__Final Dataset Size__: Varies <br>\n",
    "__Fixed vs Cleaning__: Cleaning <br>\n",
    "__Under-sampling criteria__: Remove noisy observations <br>\n",
    "\n",
    "#### Resampling"
   ]
  },
  {
   "cell_type": "code",
   "execution_count": null,
   "metadata": {},
   "outputs": [],
   "source": [
    "# set up Neighbourhood cleaning rule\n",
    "\n",
    "ncr = NeighbourhoodCleaningRule(\n",
    "    sampling_strategy='auto',# removes only the majority class\n",
    "    n_neighbors=3, # 3 KNN\n",
    "    kind_sel='all', # all neighbouring observations should show the same class\n",
    "    n_jobs=4,\n",
    "    threshold_cleaning=0.5) # threshold no exclude or not observations \n",
    "\n",
    "X_ncr, y_ncr = ncr.fit_resample(X_train, y_train)"
   ]
  },
  {
   "cell_type": "code",
   "execution_count": null,
   "metadata": {},
   "outputs": [],
   "source": [
    "# compare shapes\n",
    "\n",
    "X_train.shape, X_ncr.shape"
   ]
  },
  {
   "cell_type": "markdown",
   "metadata": {},
   "source": [
    "We see that the rule did not exclude a lot of samples, only 2."
   ]
  },
  {
   "cell_type": "markdown",
   "metadata": {},
   "source": [
    "## 9. NearMiss\n",
    "\n",
    "__Final Dataset Size__: 2 x minority class <br>\n",
    "__Fixed vs Cleaning__: Fixed <br>\n",
    "__Under-sampling criteria__: Keep boundary observations <br>\n",
    "\n",
    "#### Resempling"
   ]
  },
  {
   "cell_type": "code",
   "execution_count": null,
   "metadata": {},
   "outputs": [],
   "source": [
    "# NearMiss version 1\n",
    "\n",
    "nm1 = NearMiss(\n",
    "    sampling_strategy='auto',  # undersamples only the majority class\n",
    "    version=1,\n",
    "    n_neighbors=3,\n",
    "    n_jobs=4)  # I have 4 cores in my laptop\n",
    "\n",
    "X_nm1, y_nm1 = nm1.fit_resample(X_train, y_train)"
   ]
  },
  {
   "cell_type": "code",
   "execution_count": null,
   "metadata": {},
   "outputs": [],
   "source": [
    "# NearMiss version 2\n",
    "\n",
    "nm2 = NearMiss(\n",
    "    sampling_strategy='auto',  # undersamples only the majority class\n",
    "    version=2,\n",
    "    n_neighbors=3,\n",
    "    n_jobs=4)  # I have 4 cores in my laptop\n",
    "\n",
    "X_nm2, y_nm2 = nm2.fit_resample(X_train, y_train)"
   ]
  },
  {
   "cell_type": "code",
   "execution_count": null,
   "metadata": {},
   "outputs": [],
   "source": [
    "# NearMiss version 3\n",
    "\n",
    "nm3 = NearMiss(\n",
    "    sampling_strategy='auto',  # undersamples only the majority class\n",
    "    version=3,\n",
    "    n_neighbors=3,\n",
    "    n_jobs=4)  # I have 4 cores in my laptop\n",
    "\n",
    "X_nm3, y_nm3 = nm3.fit_resample(X_train, y_train)"
   ]
  },
  {
   "cell_type": "code",
   "execution_count": null,
   "metadata": {},
   "outputs": [],
   "source": [
    "# compare shapes\n",
    "\n",
    "X_train.shape, X_nm1.shape, X_nm2.shape, X_nm3.shape"
   ]
  },
  {
   "cell_type": "markdown",
   "metadata": {},
   "source": [
    "## 10. Instance Hardness Threshold\n",
    "\n",
    "__Method of data Exclusion__: Probability by a certain classifier\n",
    "is above a threshold <br>\n",
    "__Final Dataset Size__: Varies. Minimum 2 x minority class <br>\n",
    "__Fixed vs Cleaning__: Fixed <br>\n",
    "__Under-sampling criteria__: Remove noisy observations <br>\n",
    "\n",
    "#### Reshaping"
   ]
  },
  {
   "cell_type": "code",
   "execution_count": null,
   "metadata": {},
   "outputs": [],
   "source": [
    "# instance hardness threshold using logistic regression\n",
    "\n",
    "iht_logit = InstanceHardnessThreshold(\n",
    "    estimator=LogisticRegression(random_state=0),\n",
    "    sampling_strategy='auto',  # undersamples only the majority class\n",
    "    random_state=0,\n",
    "    n_jobs=4, \n",
    "    cv=3)  # not 5 as this is only a demo work\n",
    "\n",
    "X_logit, y_logit = iht_logit.fit_resample(X_train, y_train)"
   ]
  },
  {
   "cell_type": "code",
   "execution_count": null,
   "metadata": {},
   "outputs": [],
   "source": [
    "# instance hardness threshold using random forests\n",
    "\n",
    "iht_rf = InstanceHardnessThreshold(\n",
    "    estimator=RandomForestClassifier(n_estimators=100, random_state=0),\n",
    "    sampling_strategy='auto',  # undersamples only the majority class\n",
    "    random_state=0,\n",
    "    n_jobs=4,\n",
    "    cv=3)\n",
    "\n",
    "\n",
    "X_rf, y_rf = iht_rf.fit_resample(X_train, y_train)"
   ]
  },
  {
   "cell_type": "code",
   "execution_count": null,
   "metadata": {},
   "outputs": [],
   "source": [
    "# compare shapes\n",
    "\n",
    "X_train.shape, X_logit.shape, X_rf.shape"
   ]
  },
  {
   "cell_type": "markdown",
   "metadata": {},
   "source": [
    "## Machine learning performance comparison\n",
    "\n",
    "Here, I will try to compare Random Fores and Logistic Regression algorithms."
   ]
  },
  {
   "cell_type": "code",
   "execution_count": null,
   "metadata": {},
   "outputs": [],
   "source": [
    "def do_scaling(X_train, X_test=None):\n",
    "    scaler = StandardScaler()\n",
    "    scaler.fit_transform(X_train)\n",
    "    scaler.fit_transform(X_test)"
   ]
  },
  {
   "cell_type": "code",
   "execution_count": null,
   "metadata": {},
   "outputs": [],
   "source": [
    "# function to train random forests and evaluate the performance\n",
    "\n",
    "def run_randomForests(X_train, X_test, y_train, y_test,\n",
    "                     X_resampled, y_resampled):\n",
    "    \n",
    "    print(\"RANDOM FOREST\", \"\\n\")\n",
    "    \n",
    "    # for original sets\n",
    "    rf = RandomForestClassifier(n_estimators=200, random_state=39, max_depth=4)\n",
    "    rf.fit(X_train, y_train)\n",
    "    \n",
    "    print('Original Train set')\n",
    "    pred = rf.predict_proba(X_train)\n",
    "    print('Random Forests roc-auc: {}'.format(roc_auc_score(y_train, pred[:,1])))\n",
    "    \n",
    "    print('Original Test set')\n",
    "    pred = rf.predict_proba(X_test)\n",
    "    print('Random Forests roc-auc: {}'.format(roc_auc_score(y_test, pred[:,1])))\n",
    "    print(\"\\n\")\n",
    "    \n",
    "    # for resampled sets\n",
    "    rf = RandomForestClassifier(n_estimators=200, random_state=39, max_depth=4)\n",
    "    rf.fit(X_resampled, y_resampled)\n",
    "    \n",
    "    print('Resampled Train set')\n",
    "    pred = rf.predict_proba(X_train)\n",
    "    print('Random Forests roc-auc: {}'.format(roc_auc_score(y_train, pred[:,1])))\n",
    "    \n",
    "    print('Resampled Test set')\n",
    "    pred = rf.predict_proba(X_test)\n",
    "    print('Random Forests roc-auc: {}'.format(roc_auc_score(y_test, pred[:,1])))\n",
    "    \n",
    "    print(\"*\"*60)\n",
    "    print(\"\\n\")"
   ]
  },
  {
   "cell_type": "code",
   "execution_count": null,
   "metadata": {},
   "outputs": [],
   "source": [
    "def run_logisticRegression(X_train, X_test, y_train, y_test,\n",
    "                     X_resampled, y_resampled):\n",
    "    \n",
    "    print(\"LOGISTIC REGRESION\", \"\\n\")\n",
    "    \n",
    "    # for original dsets\n",
    "    do_scaling(X_train, X_test)    \n",
    "    \n",
    "    logr = LogisticRegression(random_state=0)\n",
    "    logr.fit(X_train, y_train)\n",
    "\n",
    "    print('Original Train set')\n",
    "    pred = logr.predict_proba(X_train)\n",
    "    print('Logistic Regression roc-auc: {}'.format(roc_auc_score(y_train, pred[:,1])))\n",
    "    \n",
    "    print('Original Test set')\n",
    "    pred = logr.predict_proba(X_test)\n",
    "    print('Logistic Regression roc-auc: {}'.format(roc_auc_score(y_test, pred[:,1])))\n",
    "    print(\"\\n\")\n",
    "    \n",
    "    # for resampled dsets\n",
    "    do_scaling(X_resampled)\n",
    "    \n",
    "    logr = LogisticRegression(random_state=0)\n",
    "    logr.fit(X_resampled, y_resampled)\n",
    "    \n",
    "    print('Resampled Train set')\n",
    "    pred = logr.predict_proba(X_train)\n",
    "    print('Logistic Regression roc-auc: {}'.format(roc_auc_score(y_train, pred[:,1])))\n",
    "    \n",
    "    print('Resampled Test set')\n",
    "    pred = logr.predict_proba(X_test)\n",
    "    print('Logistic Regression roc-auc: {}'.format(roc_auc_score(y_test, pred[:,1])))\n",
    "    \n",
    "    print(\"*\"*60)\n",
    "    print(\"\\n\")"
   ]
  },
  {
   "cell_type": "code",
   "execution_count": null,
   "metadata": {},
   "outputs": [],
   "source": [
    "def run_KNN(X_train, X_test, y_train, y_test,\n",
    "                     X_resampled, y_resampled):\n",
    "    \n",
    "    print(\"KNN\", \"\\n\")\n",
    "    \n",
    "    # for original dsets\n",
    "    #do_scaling(X_train, X_test)\n",
    "    \n",
    "    knn = KNeighborsClassifier()\n",
    "    knn.fit(X_train, y_train)\n",
    "    \n",
    "    print('Original rain set')\n",
    "    pred = knn.predict_proba(X_train)\n",
    "    print('KNN roc-auc: {}'.format(roc_auc_score(y_train, pred[:,1])))\n",
    "    \n",
    "    print('Original test set')\n",
    "    pred = knn.predict_proba(X_test)\n",
    "    print('KNN roc-auc: {}'.format(roc_auc_score(y_test, pred[:,1])))\n",
    "    print(\"\\n\")\n",
    "    \n",
    "    # for resampled dsets\n",
    "    #do_scaling(X_resampled)\n",
    "    \n",
    "    knn = KNeighborsClassifier()\n",
    "    knn.fit(X_resampled, y_resampled)\n",
    "    \n",
    "    print('Resampled Train set')\n",
    "    pred = knn.predict_proba(X_resampled)\n",
    "    print('KNN roc-auc: {}'.format(roc_auc_score(y_train, pred[:,1])))\n",
    "    \n",
    "    print('Resampled Test set')\n",
    "    pred = knn.predict_proba(X_test)\n",
    "    print('KNN roc-auc: {}'.format(roc_auc_score(y_test, pred[:,1])))\n",
    "    \n",
    "    print(\"*\"*60)\n",
    "    print(\"\\n\")"
   ]
  },
  {
   "cell_type": "code",
   "execution_count": null,
   "metadata": {},
   "outputs": [],
   "source": [
    "def run_ML_models(X_train, X_test, y_train, y_test, X_resampled, y_resampled):\n",
    "    run_randomForests(X_train, X_test, y_train, y_test, X_resampled, y_resampled)\n",
    "    run_logisticRegression(X_train, X_test, y_train, y_test, X_resampled, y_resampled)\n",
    "    #run_KNN(X_train, X_test, y_train, y_test, X_resampled, y_resampled)"
   ]
  },
  {
   "cell_type": "code",
   "execution_count": null,
   "metadata": {
    "scrolled": true
   },
   "outputs": [],
   "source": [
    "run_ML_models(X_train, X_test, y_train, y_test, X_resampled, y_resampled)"
   ]
  },
  {
   "cell_type": "code",
   "execution_count": null,
   "metadata": {},
   "outputs": [],
   "source": []
  },
  {
   "cell_type": "code",
   "execution_count": null,
   "metadata": {},
   "outputs": [],
   "source": [
    "# evaluate performance of algorithm built\n",
    "# using imbalanced dataset\n",
    "\n",
    "run_randomForests(X_train,\n",
    "                  X_test,\n",
    "                  y_train,\n",
    "                  y_test)"
   ]
  },
  {
   "cell_type": "code",
   "execution_count": null,
   "metadata": {
    "scrolled": true
   },
   "outputs": [],
   "source": [
    "# evaluate performance of algorithm built\n",
    "# using undersampled dataset\n",
    "\n",
    "run_randomForests(X_resampled,\n",
    "                  X_test,\n",
    "                  y_resampled,\n",
    "                  y_test)"
   ]
  },
  {
   "cell_type": "markdown",
   "metadata": {},
   "source": [
    "Quite a big jump in model performance."
   ]
  },
  {
   "cell_type": "code",
   "execution_count": null,
   "metadata": {},
   "outputs": [],
   "source": [
    "def run_logisticRegression(X_train, X_test, y_train, y_test):\n",
    "    \n",
    "    rf = LogisticRegression(random_state=0)\n",
    "    rf.fit(X_train, y_train)\n",
    "\n",
    "    print('Train set')\n",
    "    pred = rf.predict_proba(X_train)\n",
    "    print('Logistic Regression roc-auc: {}'.format(roc_auc_score(y_train, pred[:,1])))\n",
    "    \n",
    "    print('Test set')\n",
    "    pred = rf.predict_proba(X_test)\n",
    "    print('Logistic Regression roc-auc: {}'.format(roc_auc_score(y_test, pred[:,1])))"
   ]
  },
  {
   "cell_type": "code",
   "execution_count": null,
   "metadata": {},
   "outputs": [],
   "source": []
  }
 ],
 "metadata": {
  "kernelspec": {
   "display_name": "Python 3",
   "language": "python",
   "name": "python3"
  },
  "language_info": {
   "codemirror_mode": {
    "name": "ipython",
    "version": 3
   },
   "file_extension": ".py",
   "mimetype": "text/x-python",
   "name": "python",
   "nbconvert_exporter": "python",
   "pygments_lexer": "ipython3",
   "version": "3.8.5"
  }
 },
 "nbformat": 4,
 "nbformat_minor": 4
}
