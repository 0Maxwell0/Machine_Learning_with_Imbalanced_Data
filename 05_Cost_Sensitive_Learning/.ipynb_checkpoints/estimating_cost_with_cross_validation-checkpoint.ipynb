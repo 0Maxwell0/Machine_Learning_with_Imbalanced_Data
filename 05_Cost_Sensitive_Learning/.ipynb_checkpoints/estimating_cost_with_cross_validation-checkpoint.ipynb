{
 "cells": [
  {
   "cell_type": "markdown",
   "metadata": {},
   "source": [
    "## Estimating the Cost with Cross-Validation\n",
    "\n",
    "3 ways of estimating the cost:\n",
    "\n",
    "- Domain Expert provides the cost\n",
    "- Balance Ratio (we did this in previous notebook)\n",
    "- Cross-validation: find cost as hyper-parameter\n",
    "\n",
    "In this notebook, the cost is applied as a hyper parameter search with cross-validation."
   ]
  },
  {
   "cell_type": "code",
   "execution_count": 1,
   "metadata": {},
   "outputs": [],
   "source": [
    "import pandas as pd\n",
    "from sklearn.ensemble import RandomForestClassifier\n",
    "from sklearn.metrics import roc_auc_score\n",
    "from sklearn.model_selection import train_test_split\n",
    "from sklearn.model_selection import GridSearchCV"
   ]
  },
  {
   "cell_type": "code",
   "execution_count": 2,
   "metadata": {},
   "outputs": [
    {
     "data": {
      "text/html": [
       "<div>\n",
       "<style scoped>\n",
       "    .dataframe tbody tr th:only-of-type {\n",
       "        vertical-align: middle;\n",
       "    }\n",
       "\n",
       "    .dataframe tbody tr th {\n",
       "        vertical-align: top;\n",
       "    }\n",
       "\n",
       "    .dataframe thead th {\n",
       "        text-align: right;\n",
       "    }\n",
       "</style>\n",
       "<table border=\"1\" class=\"dataframe\">\n",
       "  <thead>\n",
       "    <tr style=\"text-align: right;\">\n",
       "      <th></th>\n",
       "      <th>0</th>\n",
       "      <th>1</th>\n",
       "      <th>2</th>\n",
       "      <th>3</th>\n",
       "      <th>4</th>\n",
       "      <th>5</th>\n",
       "      <th>6</th>\n",
       "      <th>7</th>\n",
       "      <th>8</th>\n",
       "      <th>9</th>\n",
       "      <th>...</th>\n",
       "      <th>65</th>\n",
       "      <th>66</th>\n",
       "      <th>67</th>\n",
       "      <th>68</th>\n",
       "      <th>69</th>\n",
       "      <th>70</th>\n",
       "      <th>71</th>\n",
       "      <th>72</th>\n",
       "      <th>73</th>\n",
       "      <th>target</th>\n",
       "    </tr>\n",
       "  </thead>\n",
       "  <tbody>\n",
       "    <tr>\n",
       "      <th>42061</th>\n",
       "      <td>30.89</td>\n",
       "      <td>26.58</td>\n",
       "      <td>-0.95</td>\n",
       "      <td>-36.0</td>\n",
       "      <td>68.5</td>\n",
       "      <td>2601.9</td>\n",
       "      <td>-0.84</td>\n",
       "      <td>-0.32</td>\n",
       "      <td>-11.0</td>\n",
       "      <td>-68.5</td>\n",
       "      <td>...</td>\n",
       "      <td>2040.6</td>\n",
       "      <td>-0.55</td>\n",
       "      <td>3.29</td>\n",
       "      <td>8.0</td>\n",
       "      <td>-120.0</td>\n",
       "      <td>311.2</td>\n",
       "      <td>2.40</td>\n",
       "      <td>0.08</td>\n",
       "      <td>-0.06</td>\n",
       "      <td>-1</td>\n",
       "    </tr>\n",
       "    <tr>\n",
       "      <th>16662</th>\n",
       "      <td>57.14</td>\n",
       "      <td>20.83</td>\n",
       "      <td>-0.55</td>\n",
       "      <td>5.5</td>\n",
       "      <td>53.0</td>\n",
       "      <td>1261.9</td>\n",
       "      <td>1.10</td>\n",
       "      <td>-1.01</td>\n",
       "      <td>2.0</td>\n",
       "      <td>-52.5</td>\n",
       "      <td>...</td>\n",
       "      <td>1301.2</td>\n",
       "      <td>1.20</td>\n",
       "      <td>-0.90</td>\n",
       "      <td>-3.0</td>\n",
       "      <td>-22.0</td>\n",
       "      <td>18.0</td>\n",
       "      <td>0.90</td>\n",
       "      <td>0.09</td>\n",
       "      <td>-0.19</td>\n",
       "      <td>-1</td>\n",
       "    </tr>\n",
       "    <tr>\n",
       "      <th>5035</th>\n",
       "      <td>80.00</td>\n",
       "      <td>18.48</td>\n",
       "      <td>-0.80</td>\n",
       "      <td>17.0</td>\n",
       "      <td>-7.0</td>\n",
       "      <td>617.4</td>\n",
       "      <td>0.86</td>\n",
       "      <td>0.09</td>\n",
       "      <td>15.5</td>\n",
       "      <td>-61.5</td>\n",
       "      <td>...</td>\n",
       "      <td>369.8</td>\n",
       "      <td>0.03</td>\n",
       "      <td>-0.25</td>\n",
       "      <td>0.0</td>\n",
       "      <td>-15.0</td>\n",
       "      <td>9.6</td>\n",
       "      <td>0.32</td>\n",
       "      <td>0.03</td>\n",
       "      <td>-0.77</td>\n",
       "      <td>-1</td>\n",
       "    </tr>\n",
       "    <tr>\n",
       "      <th>131062</th>\n",
       "      <td>54.95</td>\n",
       "      <td>30.00</td>\n",
       "      <td>-0.83</td>\n",
       "      <td>-32.0</td>\n",
       "      <td>23.0</td>\n",
       "      <td>1664.5</td>\n",
       "      <td>-0.01</td>\n",
       "      <td>-0.20</td>\n",
       "      <td>0.0</td>\n",
       "      <td>-77.0</td>\n",
       "      <td>...</td>\n",
       "      <td>1273.7</td>\n",
       "      <td>1.13</td>\n",
       "      <td>1.80</td>\n",
       "      <td>3.0</td>\n",
       "      <td>-66.0</td>\n",
       "      <td>266.4</td>\n",
       "      <td>1.76</td>\n",
       "      <td>0.31</td>\n",
       "      <td>0.13</td>\n",
       "      <td>-1</td>\n",
       "    </tr>\n",
       "    <tr>\n",
       "      <th>141169</th>\n",
       "      <td>77.42</td>\n",
       "      <td>27.21</td>\n",
       "      <td>-0.16</td>\n",
       "      <td>-37.5</td>\n",
       "      <td>80.5</td>\n",
       "      <td>2684.8</td>\n",
       "      <td>0.51</td>\n",
       "      <td>0.46</td>\n",
       "      <td>11.5</td>\n",
       "      <td>-76.0</td>\n",
       "      <td>...</td>\n",
       "      <td>3462.7</td>\n",
       "      <td>-0.85</td>\n",
       "      <td>-0.12</td>\n",
       "      <td>-10.0</td>\n",
       "      <td>-51.0</td>\n",
       "      <td>392.4</td>\n",
       "      <td>1.12</td>\n",
       "      <td>0.35</td>\n",
       "      <td>0.18</td>\n",
       "      <td>-1</td>\n",
       "    </tr>\n",
       "  </tbody>\n",
       "</table>\n",
       "<p>5 rows × 75 columns</p>\n",
       "</div>"
      ],
      "text/plain": [
       "            0      1     2     3     4       5     6     7     8     9  ...  \\\n",
       "42061   30.89  26.58 -0.95 -36.0  68.5  2601.9 -0.84 -0.32 -11.0 -68.5  ...   \n",
       "16662   57.14  20.83 -0.55   5.5  53.0  1261.9  1.10 -1.01   2.0 -52.5  ...   \n",
       "5035    80.00  18.48 -0.80  17.0  -7.0   617.4  0.86  0.09  15.5 -61.5  ...   \n",
       "131062  54.95  30.00 -0.83 -32.0  23.0  1664.5 -0.01 -0.20   0.0 -77.0  ...   \n",
       "141169  77.42  27.21 -0.16 -37.5  80.5  2684.8  0.51  0.46  11.5 -76.0  ...   \n",
       "\n",
       "            65    66    67    68     69     70    71    72    73  target  \n",
       "42061   2040.6 -0.55  3.29   8.0 -120.0  311.2  2.40  0.08 -0.06      -1  \n",
       "16662   1301.2  1.20 -0.90  -3.0  -22.0   18.0  0.90  0.09 -0.19      -1  \n",
       "5035     369.8  0.03 -0.25   0.0  -15.0    9.6  0.32  0.03 -0.77      -1  \n",
       "131062  1273.7  1.13  1.80   3.0  -66.0  266.4  1.76  0.31  0.13      -1  \n",
       "141169  3462.7 -0.85 -0.12 -10.0  -51.0  392.4  1.12  0.35  0.18      -1  \n",
       "\n",
       "[5 rows x 75 columns]"
      ]
     },
     "execution_count": 2,
     "metadata": {},
     "output_type": "execute_result"
    }
   ],
   "source": [
    "# load data\n",
    "# only a few observations to speed the computaton\n",
    "\n",
    "data = pd.read_csv('../kdd2004.csv').sample(10000)\n",
    "\n",
    "data.head()"
   ]
  },
  {
   "cell_type": "code",
   "execution_count": 3,
   "metadata": {},
   "outputs": [
    {
     "data": {
      "text/plain": [
       "-1    0.9925\n",
       " 1    0.0075\n",
       "Name: target, dtype: float64"
      ]
     },
     "execution_count": 3,
     "metadata": {},
     "output_type": "execute_result"
    }
   ],
   "source": [
    "# imbalanced target\n",
    "\n",
    "data.target.value_counts() / len(data)"
   ]
  },
  {
   "cell_type": "code",
   "execution_count": 4,
   "metadata": {},
   "outputs": [
    {
     "data": {
      "text/plain": [
       "((7000, 74), (3000, 74))"
      ]
     },
     "execution_count": 4,
     "metadata": {},
     "output_type": "execute_result"
    }
   ],
   "source": [
    "# separate dataset into train and test\n",
    "\n",
    "X_train, X_test, y_train, y_test = train_test_split(\n",
    "    data.drop(labels=['target'], axis=1),  # drop the target\n",
    "    data['target'],  # just the target\n",
    "    test_size=0.3,\n",
    "    random_state=0)\n",
    "\n",
    "X_train.shape, X_test.shape"
   ]
  },
  {
   "cell_type": "code",
   "execution_count": 5,
   "metadata": {},
   "outputs": [],
   "source": [
    "# set up initial rf\n",
    "\n",
    "rf = RandomForestClassifier(n_estimators=50,\n",
    "                            random_state=39,\n",
    "                            max_depth=2,\n",
    "                            n_jobs=4,\n",
    "                            class_weight=None)"
   ]
  },
  {
   "cell_type": "code",
   "execution_count": 6,
   "metadata": {},
   "outputs": [],
   "source": [
    "# set up parameter search grid\n",
    "# including class weight\n",
    "\n",
    "param_grid = {\n",
    "  'n_estimators': [10, 50, 100],\n",
    "  'max_depth': [None, 2, 3],\n",
    "  'class_weight': [None, {-1:1, 1:10}, {-1:1, 1:100}],\n",
    "}"
   ]
  },
  {
   "cell_type": "code",
   "execution_count": 7,
   "metadata": {},
   "outputs": [],
   "source": [
    "search = GridSearchCV(estimator=rf,\n",
    "                      scoring='roc_auc',\n",
    "                      param_grid=param_grid,\n",
    "                      cv=2,\n",
    "                     ).fit(X_train, y_train)"
   ]
  },
  {
   "cell_type": "code",
   "execution_count": 8,
   "metadata": {},
   "outputs": [
    {
     "data": {
      "text/plain": [
       "0.9842762589928058"
      ]
     },
     "execution_count": 8,
     "metadata": {},
     "output_type": "execute_result"
    }
   ],
   "source": [
    "search.best_score_"
   ]
  },
  {
   "cell_type": "code",
   "execution_count": 10,
   "metadata": {},
   "outputs": [
    {
     "data": {
      "text/plain": [
       "{'class_weight': {-1: 1, 1: 100}, 'max_depth': 3, 'n_estimators': 100}"
      ]
     },
     "execution_count": 10,
     "metadata": {},
     "output_type": "execute_result"
    }
   ],
   "source": [
    "search.best_params_"
   ]
  },
  {
   "cell_type": "code",
   "execution_count": 11,
   "metadata": {},
   "outputs": [
    {
     "data": {
      "text/plain": [
       "RandomForestClassifier(class_weight={-1: 1, 1: 100}, max_depth=3, n_jobs=4,\n",
       "                       random_state=39)"
      ]
     },
     "execution_count": 11,
     "metadata": {},
     "output_type": "execute_result"
    }
   ],
   "source": [
    "search.best_estimator_"
   ]
  },
  {
   "cell_type": "code",
   "execution_count": 12,
   "metadata": {},
   "outputs": [
    {
     "data": {
      "text/plain": [
       "0.9861781512605042"
      ]
     },
     "execution_count": 12,
     "metadata": {},
     "output_type": "execute_result"
    }
   ],
   "source": [
    "search.score(X_test, y_test)"
   ]
  },
  {
   "cell_type": "code",
   "execution_count": null,
   "metadata": {},
   "outputs": [],
   "source": []
  }
 ],
 "metadata": {
  "kernelspec": {
   "display_name": "Python 3",
   "language": "python",
   "name": "python3"
  },
  "language_info": {
   "codemirror_mode": {
    "name": "ipython",
    "version": 3
   },
   "file_extension": ".py",
   "mimetype": "text/x-python",
   "name": "python",
   "nbconvert_exporter": "python",
   "pygments_lexer": "ipython3",
   "version": "3.8.5"
  },
  "toc": {
   "base_numbering": 1,
   "nav_menu": {},
   "number_sections": true,
   "sideBar": true,
   "skip_h1_title": false,
   "title_cell": "Table of Contents",
   "title_sidebar": "Contents",
   "toc_cell": false,
   "toc_position": {},
   "toc_section_display": true,
   "toc_window_display": true
  }
 },
 "nbformat": 4,
 "nbformat_minor": 4
}
